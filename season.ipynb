{
 "cells": [
  {
   "cell_type": "markdown",
   "id": "547028f6",
   "metadata": {},
   "source": [
    "Обучение полносвязанной нейронной сети.\n",
    "\n",
    "Статистика показывает, что каждый год средняя результативность команд НБА растет. В текущем сезоне команды набирают в среднем 110,6 очка, а в сезоне 2009-2010 команды набирают в среднем 100,4 очка. Задача нейронной сети определить по данным статистике к какому сезону относится данная игра."
   ]
  },
  {
   "cell_type": "code",
   "execution_count": 93,
   "id": "2836e65a",
   "metadata": {},
   "outputs": [],
   "source": [
    "import numpy as np\n",
    "import matplotlib.pyplot as plt\n",
    "%matplotlib inline \n",
    "import pandas as pd\n",
    "import seaborn as sns\n",
    "import sklearn"
   ]
  },
  {
   "cell_type": "code",
   "execution_count": 94,
   "id": "b8548088",
   "metadata": {},
   "outputs": [],
   "source": [
    "from sklearn.neural_network import MLPClassifier\n",
    "from sklearn.metrics import accuracy_score, confusion_matrix, ConfusionMatrixDisplay\n",
    "from sklearn.model_selection import train_test_split\n",
    "%matplotlib inline"
   ]
  },
  {
   "cell_type": "code",
   "execution_count": 95,
   "id": "dd338f70",
   "metadata": {},
   "outputs": [
    {
     "data": {
      "text/plain": [
       "(25796, 21)"
      ]
     },
     "execution_count": 95,
     "metadata": {},
     "output_type": "execute_result"
    }
   ],
   "source": [
    "path_train = \"games.csv\"\n",
    "data_raw = pd.read_csv(path_train)\n",
    "data_raw.shape"
   ]
  },
  {
   "cell_type": "code",
   "execution_count": 96,
   "id": "4bfcc58d",
   "metadata": {},
   "outputs": [
    {
     "data": {
      "text/plain": [
       "(25579, 21)"
      ]
     },
     "execution_count": 96,
     "metadata": {},
     "output_type": "execute_result"
    }
   ],
   "source": [
    "rows_to_drop = data_raw[\n",
    "    (data_raw['PTS_home'] < data_raw['PTS_home'].quantile(0.005)) | (data_raw['PTS_home'] > data_raw['PTS_home'].quantile(0.995))].index\n",
    "data = data_raw.drop(rows_to_drop)\n",
    "data.shape"
   ]
  },
  {
   "cell_type": "code",
   "execution_count": 97,
   "id": "d472da21",
   "metadata": {},
   "outputs": [
    {
     "data": {
      "text/plain": [
       "GAME_DATE_EST        0\n",
       "GAME_ID              0\n",
       "GAME_STATUS_TEXT     0\n",
       "HOME_TEAM_ID         0\n",
       "VISITOR_TEAM_ID      0\n",
       "SEASON               0\n",
       "TEAM_ID_home         0\n",
       "PTS_home            99\n",
       "FG_PCT_home         99\n",
       "FT_PCT_home         99\n",
       "FG3_PCT_home        99\n",
       "AST_home            99\n",
       "REB_home            99\n",
       "TEAM_ID_away         0\n",
       "PTS_away            99\n",
       "FG_PCT_away         99\n",
       "FT_PCT_away         99\n",
       "FG3_PCT_away        99\n",
       "AST_away            99\n",
       "REB_away            99\n",
       "HOME_TEAM_WINS       0\n",
       "dtype: int64"
      ]
     },
     "execution_count": 97,
     "metadata": {},
     "output_type": "execute_result"
    }
   ],
   "source": [
    "data.isna().sum() "
   ]
  },
  {
   "cell_type": "code",
   "execution_count": 98,
   "id": "7c828e36",
   "metadata": {},
   "outputs": [],
   "source": [
    "data['PTS_home'].fillna(data['PTS_home'].mode().iloc[0], inplace=True)\n",
    "data['FG_PCT_home'].fillna(data['FG_PCT_home'].mode().iloc[0], inplace=True)\n",
    "data['FT_PCT_home'].fillna(data['FT_PCT_home'].mode().iloc[0], inplace=True)\n",
    "data['FG3_PCT_home'    ].fillna(data['FG3_PCT_home'    ].mode().iloc[0], inplace=True)\n",
    "data['AST_home'].fillna(data['AST_home'].mode().iloc[0], inplace=True)\n",
    "data['REB_home'    ].fillna(data['REB_home'    ].mode().iloc[0], inplace=True)\n",
    "data['PTS_away'].fillna(data['PTS_away'].mode().iloc[0], inplace=True)\n",
    "data['FG_PCT_away'    ].fillna(data['FG_PCT_away'    ].mode().iloc[0], inplace=True)\n",
    "data['FT_PCT_away'].fillna(data['FT_PCT_away'].mode().iloc[0], inplace=True)\n",
    "data['FG3_PCT_away'    ].fillna(data['FG3_PCT_away'    ].mode().iloc[0], inplace=True)\n",
    "data['AST_away'].fillna(data['AST_away'].mode().iloc[0], inplace=True)\n",
    "data['REB_away'    ].fillna(data['REB_away'    ].mode().iloc[0], inplace=True)"
   ]
  },
  {
   "cell_type": "code",
   "execution_count": 99,
   "id": "d983d391",
   "metadata": {},
   "outputs": [
    {
     "data": {
      "text/plain": [
       "GAME_DATE_EST       0\n",
       "GAME_ID             0\n",
       "GAME_STATUS_TEXT    0\n",
       "HOME_TEAM_ID        0\n",
       "VISITOR_TEAM_ID     0\n",
       "SEASON              0\n",
       "TEAM_ID_home        0\n",
       "PTS_home            0\n",
       "FG_PCT_home         0\n",
       "FT_PCT_home         0\n",
       "FG3_PCT_home        0\n",
       "AST_home            0\n",
       "REB_home            0\n",
       "TEAM_ID_away        0\n",
       "PTS_away            0\n",
       "FG_PCT_away         0\n",
       "FT_PCT_away         0\n",
       "FG3_PCT_away        0\n",
       "AST_away            0\n",
       "REB_away            0\n",
       "HOME_TEAM_WINS      0\n",
       "dtype: int64"
      ]
     },
     "execution_count": 99,
     "metadata": {},
     "output_type": "execute_result"
    }
   ],
   "source": [
    "data.isna().sum()  "
   ]
  },
  {
   "cell_type": "code",
   "execution_count": 100,
   "id": "e2567ae0",
   "metadata": {},
   "outputs": [
    {
     "data": {
      "text/html": [
       "<div>\n",
       "<style scoped>\n",
       "    .dataframe tbody tr th:only-of-type {\n",
       "        vertical-align: middle;\n",
       "    }\n",
       "\n",
       "    .dataframe tbody tr th {\n",
       "        vertical-align: top;\n",
       "    }\n",
       "\n",
       "    .dataframe thead th {\n",
       "        text-align: right;\n",
       "    }\n",
       "</style>\n",
       "<table border=\"1\" class=\"dataframe\">\n",
       "  <thead>\n",
       "    <tr style=\"text-align: right;\">\n",
       "      <th></th>\n",
       "      <th>GAME_ID</th>\n",
       "      <th>HOME_TEAM_ID</th>\n",
       "      <th>VISITOR_TEAM_ID</th>\n",
       "      <th>SEASON</th>\n",
       "      <th>TEAM_ID_home</th>\n",
       "      <th>PTS_home</th>\n",
       "      <th>FG_PCT_home</th>\n",
       "      <th>FT_PCT_home</th>\n",
       "      <th>FG3_PCT_home</th>\n",
       "      <th>AST_home</th>\n",
       "      <th>REB_home</th>\n",
       "      <th>TEAM_ID_away</th>\n",
       "      <th>PTS_away</th>\n",
       "      <th>FG_PCT_away</th>\n",
       "      <th>FT_PCT_away</th>\n",
       "      <th>FG3_PCT_away</th>\n",
       "      <th>AST_away</th>\n",
       "      <th>REB_away</th>\n",
       "      <th>HOME_TEAM_WINS</th>\n",
       "    </tr>\n",
       "  </thead>\n",
       "  <tbody>\n",
       "    <tr>\n",
       "      <th>count</th>\n",
       "      <td>2.557900e+04</td>\n",
       "      <td>2.557900e+04</td>\n",
       "      <td>2.557900e+04</td>\n",
       "      <td>25579.000000</td>\n",
       "      <td>2.557900e+04</td>\n",
       "      <td>25579.000000</td>\n",
       "      <td>25579.000000</td>\n",
       "      <td>25579.000000</td>\n",
       "      <td>25579.000000</td>\n",
       "      <td>25579.000000</td>\n",
       "      <td>25579.000000</td>\n",
       "      <td>2.557900e+04</td>\n",
       "      <td>25579.000000</td>\n",
       "      <td>25579.000000</td>\n",
       "      <td>25579.000000</td>\n",
       "      <td>25579.000000</td>\n",
       "      <td>25579.000000</td>\n",
       "      <td>25579.000000</td>\n",
       "      <td>25579.00000</td>\n",
       "    </tr>\n",
       "    <tr>\n",
       "      <th>mean</th>\n",
       "      <td>2.168650e+07</td>\n",
       "      <td>1.610613e+09</td>\n",
       "      <td>1.610613e+09</td>\n",
       "      <td>2011.796865</td>\n",
       "      <td>1.610613e+09</td>\n",
       "      <td>103.088823</td>\n",
       "      <td>0.460628</td>\n",
       "      <td>0.759696</td>\n",
       "      <td>0.355938</td>\n",
       "      <td>22.730873</td>\n",
       "      <td>43.336643</td>\n",
       "      <td>1.610613e+09</td>\n",
       "      <td>100.239415</td>\n",
       "      <td>0.449449</td>\n",
       "      <td>0.758028</td>\n",
       "      <td>0.349231</td>\n",
       "      <td>21.386137</td>\n",
       "      <td>42.068142</td>\n",
       "      <td>0.58853</td>\n",
       "    </tr>\n",
       "    <tr>\n",
       "      <th>std</th>\n",
       "      <td>5.479320e+06</td>\n",
       "      <td>8.635903e+00</td>\n",
       "      <td>8.652590e+00</td>\n",
       "      <td>5.389354</td>\n",
       "      <td>8.635903e+00</td>\n",
       "      <td>12.680743</td>\n",
       "      <td>0.055757</td>\n",
       "      <td>0.100391</td>\n",
       "      <td>0.111316</td>\n",
       "      <td>5.100941</td>\n",
       "      <td>6.601891</td>\n",
       "      <td>8.652590e+00</td>\n",
       "      <td>13.159421</td>\n",
       "      <td>0.055471</td>\n",
       "      <td>0.103264</td>\n",
       "      <td>0.109892</td>\n",
       "      <td>5.117072</td>\n",
       "      <td>6.498904</td>\n",
       "      <td>0.49211</td>\n",
       "    </tr>\n",
       "    <tr>\n",
       "      <th>min</th>\n",
       "      <td>1.030000e+07</td>\n",
       "      <td>1.610613e+09</td>\n",
       "      <td>1.610613e+09</td>\n",
       "      <td>2003.000000</td>\n",
       "      <td>1.610613e+09</td>\n",
       "      <td>71.000000</td>\n",
       "      <td>0.269000</td>\n",
       "      <td>0.143000</td>\n",
       "      <td>0.000000</td>\n",
       "      <td>6.000000</td>\n",
       "      <td>15.000000</td>\n",
       "      <td>1.610613e+09</td>\n",
       "      <td>54.000000</td>\n",
       "      <td>0.244000</td>\n",
       "      <td>0.143000</td>\n",
       "      <td>0.000000</td>\n",
       "      <td>4.000000</td>\n",
       "      <td>20.000000</td>\n",
       "      <td>0.00000</td>\n",
       "    </tr>\n",
       "    <tr>\n",
       "      <th>25%</th>\n",
       "      <td>2.060110e+07</td>\n",
       "      <td>1.610613e+09</td>\n",
       "      <td>1.610613e+09</td>\n",
       "      <td>2007.000000</td>\n",
       "      <td>1.610613e+09</td>\n",
       "      <td>94.000000</td>\n",
       "      <td>0.422000</td>\n",
       "      <td>0.697000</td>\n",
       "      <td>0.286000</td>\n",
       "      <td>19.000000</td>\n",
       "      <td>39.000000</td>\n",
       "      <td>1.610613e+09</td>\n",
       "      <td>91.000000</td>\n",
       "      <td>0.412000</td>\n",
       "      <td>0.692000</td>\n",
       "      <td>0.278000</td>\n",
       "      <td>18.000000</td>\n",
       "      <td>38.000000</td>\n",
       "      <td>0.00000</td>\n",
       "    </tr>\n",
       "    <tr>\n",
       "      <th>50%</th>\n",
       "      <td>2.120040e+07</td>\n",
       "      <td>1.610613e+09</td>\n",
       "      <td>1.610613e+09</td>\n",
       "      <td>2012.000000</td>\n",
       "      <td>1.610613e+09</td>\n",
       "      <td>103.000000</td>\n",
       "      <td>0.460000</td>\n",
       "      <td>0.765000</td>\n",
       "      <td>0.355000</td>\n",
       "      <td>23.000000</td>\n",
       "      <td>43.000000</td>\n",
       "      <td>1.610613e+09</td>\n",
       "      <td>100.000000</td>\n",
       "      <td>0.449000</td>\n",
       "      <td>0.762000</td>\n",
       "      <td>0.348000</td>\n",
       "      <td>21.000000</td>\n",
       "      <td>42.000000</td>\n",
       "      <td>1.00000</td>\n",
       "    </tr>\n",
       "    <tr>\n",
       "      <th>75%</th>\n",
       "      <td>2.170067e+07</td>\n",
       "      <td>1.610613e+09</td>\n",
       "      <td>1.610613e+09</td>\n",
       "      <td>2016.000000</td>\n",
       "      <td>1.610613e+09</td>\n",
       "      <td>112.000000</td>\n",
       "      <td>0.500000</td>\n",
       "      <td>0.828000</td>\n",
       "      <td>0.429000</td>\n",
       "      <td>26.000000</td>\n",
       "      <td>48.000000</td>\n",
       "      <td>1.610613e+09</td>\n",
       "      <td>109.000000</td>\n",
       "      <td>0.487000</td>\n",
       "      <td>0.829000</td>\n",
       "      <td>0.419000</td>\n",
       "      <td>25.000000</td>\n",
       "      <td>46.000000</td>\n",
       "      <td>1.00000</td>\n",
       "    </tr>\n",
       "    <tr>\n",
       "      <th>max</th>\n",
       "      <td>5.200021e+07</td>\n",
       "      <td>1.610613e+09</td>\n",
       "      <td>1.610613e+09</td>\n",
       "      <td>2021.000000</td>\n",
       "      <td>1.610613e+09</td>\n",
       "      <td>140.000000</td>\n",
       "      <td>0.684000</td>\n",
       "      <td>1.000000</td>\n",
       "      <td>1.000000</td>\n",
       "      <td>42.000000</td>\n",
       "      <td>72.000000</td>\n",
       "      <td>1.610613e+09</td>\n",
       "      <td>158.000000</td>\n",
       "      <td>0.687000</td>\n",
       "      <td>1.000000</td>\n",
       "      <td>1.000000</td>\n",
       "      <td>46.000000</td>\n",
       "      <td>81.000000</td>\n",
       "      <td>1.00000</td>\n",
       "    </tr>\n",
       "  </tbody>\n",
       "</table>\n",
       "</div>"
      ],
      "text/plain": [
       "            GAME_ID  HOME_TEAM_ID  VISITOR_TEAM_ID        SEASON  \\\n",
       "count  2.557900e+04  2.557900e+04     2.557900e+04  25579.000000   \n",
       "mean   2.168650e+07  1.610613e+09     1.610613e+09   2011.796865   \n",
       "std    5.479320e+06  8.635903e+00     8.652590e+00      5.389354   \n",
       "min    1.030000e+07  1.610613e+09     1.610613e+09   2003.000000   \n",
       "25%    2.060110e+07  1.610613e+09     1.610613e+09   2007.000000   \n",
       "50%    2.120040e+07  1.610613e+09     1.610613e+09   2012.000000   \n",
       "75%    2.170067e+07  1.610613e+09     1.610613e+09   2016.000000   \n",
       "max    5.200021e+07  1.610613e+09     1.610613e+09   2021.000000   \n",
       "\n",
       "       TEAM_ID_home      PTS_home   FG_PCT_home   FT_PCT_home  FG3_PCT_home  \\\n",
       "count  2.557900e+04  25579.000000  25579.000000  25579.000000  25579.000000   \n",
       "mean   1.610613e+09    103.088823      0.460628      0.759696      0.355938   \n",
       "std    8.635903e+00     12.680743      0.055757      0.100391      0.111316   \n",
       "min    1.610613e+09     71.000000      0.269000      0.143000      0.000000   \n",
       "25%    1.610613e+09     94.000000      0.422000      0.697000      0.286000   \n",
       "50%    1.610613e+09    103.000000      0.460000      0.765000      0.355000   \n",
       "75%    1.610613e+09    112.000000      0.500000      0.828000      0.429000   \n",
       "max    1.610613e+09    140.000000      0.684000      1.000000      1.000000   \n",
       "\n",
       "           AST_home      REB_home  TEAM_ID_away      PTS_away   FG_PCT_away  \\\n",
       "count  25579.000000  25579.000000  2.557900e+04  25579.000000  25579.000000   \n",
       "mean      22.730873     43.336643  1.610613e+09    100.239415      0.449449   \n",
       "std        5.100941      6.601891  8.652590e+00     13.159421      0.055471   \n",
       "min        6.000000     15.000000  1.610613e+09     54.000000      0.244000   \n",
       "25%       19.000000     39.000000  1.610613e+09     91.000000      0.412000   \n",
       "50%       23.000000     43.000000  1.610613e+09    100.000000      0.449000   \n",
       "75%       26.000000     48.000000  1.610613e+09    109.000000      0.487000   \n",
       "max       42.000000     72.000000  1.610613e+09    158.000000      0.687000   \n",
       "\n",
       "        FT_PCT_away  FG3_PCT_away      AST_away      REB_away  HOME_TEAM_WINS  \n",
       "count  25579.000000  25579.000000  25579.000000  25579.000000     25579.00000  \n",
       "mean       0.758028      0.349231     21.386137     42.068142         0.58853  \n",
       "std        0.103264      0.109892      5.117072      6.498904         0.49211  \n",
       "min        0.143000      0.000000      4.000000     20.000000         0.00000  \n",
       "25%        0.692000      0.278000     18.000000     38.000000         0.00000  \n",
       "50%        0.762000      0.348000     21.000000     42.000000         1.00000  \n",
       "75%        0.829000      0.419000     25.000000     46.000000         1.00000  \n",
       "max        1.000000      1.000000     46.000000     81.000000         1.00000  "
      ]
     },
     "execution_count": 100,
     "metadata": {},
     "output_type": "execute_result"
    }
   ],
   "source": [
    "data.describe()"
   ]
  },
  {
   "cell_type": "code",
   "execution_count": 101,
   "id": "fd6e0777",
   "metadata": {},
   "outputs": [
    {
     "name": "stdout",
     "output_type": "stream",
     "text": [
      "['GAME_DATE_EST', 'GAME_STATUS_TEXT']\n",
      "['GAME_ID', 'HOME_TEAM_ID', 'VISITOR_TEAM_ID', 'SEASON', 'TEAM_ID_home', 'PTS_home', 'FG_PCT_home', 'FT_PCT_home', 'FG3_PCT_home', 'AST_home', 'REB_home', 'TEAM_ID_away', 'PTS_away', 'FG_PCT_away', 'FT_PCT_away', 'FG3_PCT_away', 'AST_away', 'REB_away', 'HOME_TEAM_WINS']\n"
     ]
    }
   ],
   "source": [
    "categorical_columns = [c for c in data.columns if data[c].dtype.name == 'object']\n",
    "numerical_columns   = [c for c in data.columns if data[c].dtype.name != 'object']\n",
    "print(categorical_columns)\n",
    "print(numerical_columns)"
   ]
  },
  {
   "cell_type": "code",
   "execution_count": 102,
   "id": "8429364f",
   "metadata": {},
   "outputs": [
    {
     "name": "stdout",
     "output_type": "stream",
     "text": [
      "[] ['GAME_DATE_EST', 'GAME_STATUS_TEXT']\n"
     ]
    }
   ],
   "source": [
    "data_describe = data.describe(include = [object])\n",
    "binary_columns    = [c for c in categorical_columns if data_describe[c]['unique'] == 2]\n",
    "nonbinary_columns = [c for c in categorical_columns if data_describe[c]['unique'] > 0]\n",
    "print(binary_columns, nonbinary_columns)"
   ]
  },
  {
   "cell_type": "code",
   "execution_count": 103,
   "id": "3e7deb03",
   "metadata": {},
   "outputs": [
    {
     "data": {
      "text/plain": [
       "array(['2022-03-12', '2022-03-11', '2022-03-10', ..., '2014-10-06',\n",
       "       '2014-10-05', '2014-10-04'], dtype=object)"
      ]
     },
     "execution_count": 103,
     "metadata": {},
     "output_type": "execute_result"
    }
   ],
   "source": [
    "data['GAME_DATE_EST'].unique()"
   ]
  },
  {
   "cell_type": "code",
   "execution_count": 104,
   "id": "174cc94a",
   "metadata": {},
   "outputs": [
    {
     "data": {
      "text/html": [
       "<div>\n",
       "<style scoped>\n",
       "    .dataframe tbody tr th:only-of-type {\n",
       "        vertical-align: middle;\n",
       "    }\n",
       "\n",
       "    .dataframe tbody tr th {\n",
       "        vertical-align: top;\n",
       "    }\n",
       "\n",
       "    .dataframe thead th {\n",
       "        text-align: right;\n",
       "    }\n",
       "</style>\n",
       "<table border=\"1\" class=\"dataframe\">\n",
       "  <thead>\n",
       "    <tr style=\"text-align: right;\">\n",
       "      <th></th>\n",
       "      <th>GAME_DATE_EST</th>\n",
       "      <th>GAME_STATUS_TEXT</th>\n",
       "    </tr>\n",
       "  </thead>\n",
       "  <tbody>\n",
       "    <tr>\n",
       "      <th>0</th>\n",
       "      <td>2022-03-12</td>\n",
       "      <td>Final</td>\n",
       "    </tr>\n",
       "    <tr>\n",
       "      <th>1</th>\n",
       "      <td>2022-03-12</td>\n",
       "      <td>Final</td>\n",
       "    </tr>\n",
       "    <tr>\n",
       "      <th>2</th>\n",
       "      <td>2022-03-12</td>\n",
       "      <td>Final</td>\n",
       "    </tr>\n",
       "    <tr>\n",
       "      <th>3</th>\n",
       "      <td>2022-03-12</td>\n",
       "      <td>Final</td>\n",
       "    </tr>\n",
       "    <tr>\n",
       "      <th>4</th>\n",
       "      <td>2022-03-12</td>\n",
       "      <td>Final</td>\n",
       "    </tr>\n",
       "    <tr>\n",
       "      <th>...</th>\n",
       "      <td>...</td>\n",
       "      <td>...</td>\n",
       "    </tr>\n",
       "    <tr>\n",
       "      <th>25791</th>\n",
       "      <td>2014-10-06</td>\n",
       "      <td>Final</td>\n",
       "    </tr>\n",
       "    <tr>\n",
       "      <th>25792</th>\n",
       "      <td>2014-10-06</td>\n",
       "      <td>Final</td>\n",
       "    </tr>\n",
       "    <tr>\n",
       "      <th>25793</th>\n",
       "      <td>2014-10-06</td>\n",
       "      <td>Final</td>\n",
       "    </tr>\n",
       "    <tr>\n",
       "      <th>25794</th>\n",
       "      <td>2014-10-05</td>\n",
       "      <td>Final</td>\n",
       "    </tr>\n",
       "    <tr>\n",
       "      <th>25795</th>\n",
       "      <td>2014-10-04</td>\n",
       "      <td>Final</td>\n",
       "    </tr>\n",
       "  </tbody>\n",
       "</table>\n",
       "<p>25579 rows × 2 columns</p>\n",
       "</div>"
      ],
      "text/plain": [
       "      GAME_DATE_EST GAME_STATUS_TEXT\n",
       "0        2022-03-12            Final\n",
       "1        2022-03-12            Final\n",
       "2        2022-03-12            Final\n",
       "3        2022-03-12            Final\n",
       "4        2022-03-12            Final\n",
       "...             ...              ...\n",
       "25791    2014-10-06            Final\n",
       "25792    2014-10-06            Final\n",
       "25793    2014-10-06            Final\n",
       "25794    2014-10-05            Final\n",
       "25795    2014-10-04            Final\n",
       "\n",
       "[25579 rows x 2 columns]"
      ]
     },
     "execution_count": 104,
     "metadata": {},
     "output_type": "execute_result"
    }
   ],
   "source": [
    "data[nonbinary_columns]"
   ]
  },
  {
   "cell_type": "code",
   "execution_count": 105,
   "id": "e9d1da52",
   "metadata": {},
   "outputs": [
    {
     "name": "stdout",
     "output_type": "stream",
     "text": [
      "Index(['GAME_DATE_EST_2003-10-05', 'GAME_DATE_EST_2003-10-06',\n",
      "       'GAME_DATE_EST_2003-10-07', 'GAME_DATE_EST_2003-10-08',\n",
      "       'GAME_DATE_EST_2003-10-09', 'GAME_DATE_EST_2003-10-10',\n",
      "       'GAME_DATE_EST_2003-10-11', 'GAME_DATE_EST_2003-10-12',\n",
      "       'GAME_DATE_EST_2003-10-13', 'GAME_DATE_EST_2003-10-14',\n",
      "       ...\n",
      "       'GAME_DATE_EST_2022-03-04', 'GAME_DATE_EST_2022-03-05',\n",
      "       'GAME_DATE_EST_2022-03-06', 'GAME_DATE_EST_2022-03-07',\n",
      "       'GAME_DATE_EST_2022-03-08', 'GAME_DATE_EST_2022-03-09',\n",
      "       'GAME_DATE_EST_2022-03-10', 'GAME_DATE_EST_2022-03-11',\n",
      "       'GAME_DATE_EST_2022-03-12', 'GAME_STATUS_TEXT_Final'],\n",
      "      dtype='object', length=4144)\n"
     ]
    },
    {
     "data": {
      "text/plain": [
       "4144"
      ]
     },
     "execution_count": 105,
     "metadata": {},
     "output_type": "execute_result"
    }
   ],
   "source": [
    "data_nonbinary = pd.get_dummies(data[nonbinary_columns])\n",
    "print(data_nonbinary.columns)\n",
    "len(data_nonbinary.columns)"
   ]
  },
  {
   "cell_type": "code",
   "execution_count": 106,
   "id": "180d50cd",
   "metadata": {},
   "outputs": [
    {
     "data": {
      "text/html": [
       "<div>\n",
       "<style scoped>\n",
       "    .dataframe tbody tr th:only-of-type {\n",
       "        vertical-align: middle;\n",
       "    }\n",
       "\n",
       "    .dataframe tbody tr th {\n",
       "        vertical-align: top;\n",
       "    }\n",
       "\n",
       "    .dataframe thead th {\n",
       "        text-align: right;\n",
       "    }\n",
       "</style>\n",
       "<table border=\"1\" class=\"dataframe\">\n",
       "  <thead>\n",
       "    <tr style=\"text-align: right;\">\n",
       "      <th></th>\n",
       "      <th>GAME_ID</th>\n",
       "      <th>HOME_TEAM_ID</th>\n",
       "      <th>VISITOR_TEAM_ID</th>\n",
       "      <th>SEASON</th>\n",
       "      <th>TEAM_ID_home</th>\n",
       "      <th>PTS_home</th>\n",
       "      <th>FG_PCT_home</th>\n",
       "      <th>FT_PCT_home</th>\n",
       "      <th>FG3_PCT_home</th>\n",
       "      <th>AST_home</th>\n",
       "      <th>REB_home</th>\n",
       "      <th>TEAM_ID_away</th>\n",
       "      <th>PTS_away</th>\n",
       "      <th>FG_PCT_away</th>\n",
       "      <th>FT_PCT_away</th>\n",
       "      <th>FG3_PCT_away</th>\n",
       "      <th>AST_away</th>\n",
       "      <th>REB_away</th>\n",
       "      <th>HOME_TEAM_WINS</th>\n",
       "    </tr>\n",
       "  </thead>\n",
       "  <tbody>\n",
       "    <tr>\n",
       "      <th>count</th>\n",
       "      <td>2.557900e+04</td>\n",
       "      <td>2.557900e+04</td>\n",
       "      <td>2.557900e+04</td>\n",
       "      <td>25579.000000</td>\n",
       "      <td>2.557900e+04</td>\n",
       "      <td>25579.000000</td>\n",
       "      <td>25579.000000</td>\n",
       "      <td>25579.000000</td>\n",
       "      <td>25579.000000</td>\n",
       "      <td>25579.000000</td>\n",
       "      <td>25579.000000</td>\n",
       "      <td>2.557900e+04</td>\n",
       "      <td>25579.000000</td>\n",
       "      <td>25579.000000</td>\n",
       "      <td>25579.000000</td>\n",
       "      <td>25579.000000</td>\n",
       "      <td>25579.000000</td>\n",
       "      <td>25579.000000</td>\n",
       "      <td>25579.00000</td>\n",
       "    </tr>\n",
       "    <tr>\n",
       "      <th>mean</th>\n",
       "      <td>2.168650e+07</td>\n",
       "      <td>1.610613e+09</td>\n",
       "      <td>1.610613e+09</td>\n",
       "      <td>2011.796865</td>\n",
       "      <td>1.610613e+09</td>\n",
       "      <td>103.088823</td>\n",
       "      <td>0.460628</td>\n",
       "      <td>0.759696</td>\n",
       "      <td>0.355938</td>\n",
       "      <td>22.730873</td>\n",
       "      <td>43.336643</td>\n",
       "      <td>1.610613e+09</td>\n",
       "      <td>100.239415</td>\n",
       "      <td>0.449449</td>\n",
       "      <td>0.758028</td>\n",
       "      <td>0.349231</td>\n",
       "      <td>21.386137</td>\n",
       "      <td>42.068142</td>\n",
       "      <td>0.58853</td>\n",
       "    </tr>\n",
       "    <tr>\n",
       "      <th>std</th>\n",
       "      <td>5.479320e+06</td>\n",
       "      <td>8.635903e+00</td>\n",
       "      <td>8.652590e+00</td>\n",
       "      <td>5.389354</td>\n",
       "      <td>8.635903e+00</td>\n",
       "      <td>12.680743</td>\n",
       "      <td>0.055757</td>\n",
       "      <td>0.100391</td>\n",
       "      <td>0.111316</td>\n",
       "      <td>5.100941</td>\n",
       "      <td>6.601891</td>\n",
       "      <td>8.652590e+00</td>\n",
       "      <td>13.159421</td>\n",
       "      <td>0.055471</td>\n",
       "      <td>0.103264</td>\n",
       "      <td>0.109892</td>\n",
       "      <td>5.117072</td>\n",
       "      <td>6.498904</td>\n",
       "      <td>0.49211</td>\n",
       "    </tr>\n",
       "    <tr>\n",
       "      <th>min</th>\n",
       "      <td>1.030000e+07</td>\n",
       "      <td>1.610613e+09</td>\n",
       "      <td>1.610613e+09</td>\n",
       "      <td>2003.000000</td>\n",
       "      <td>1.610613e+09</td>\n",
       "      <td>71.000000</td>\n",
       "      <td>0.269000</td>\n",
       "      <td>0.143000</td>\n",
       "      <td>0.000000</td>\n",
       "      <td>6.000000</td>\n",
       "      <td>15.000000</td>\n",
       "      <td>1.610613e+09</td>\n",
       "      <td>54.000000</td>\n",
       "      <td>0.244000</td>\n",
       "      <td>0.143000</td>\n",
       "      <td>0.000000</td>\n",
       "      <td>4.000000</td>\n",
       "      <td>20.000000</td>\n",
       "      <td>0.00000</td>\n",
       "    </tr>\n",
       "    <tr>\n",
       "      <th>25%</th>\n",
       "      <td>2.060110e+07</td>\n",
       "      <td>1.610613e+09</td>\n",
       "      <td>1.610613e+09</td>\n",
       "      <td>2007.000000</td>\n",
       "      <td>1.610613e+09</td>\n",
       "      <td>94.000000</td>\n",
       "      <td>0.422000</td>\n",
       "      <td>0.697000</td>\n",
       "      <td>0.286000</td>\n",
       "      <td>19.000000</td>\n",
       "      <td>39.000000</td>\n",
       "      <td>1.610613e+09</td>\n",
       "      <td>91.000000</td>\n",
       "      <td>0.412000</td>\n",
       "      <td>0.692000</td>\n",
       "      <td>0.278000</td>\n",
       "      <td>18.000000</td>\n",
       "      <td>38.000000</td>\n",
       "      <td>0.00000</td>\n",
       "    </tr>\n",
       "    <tr>\n",
       "      <th>50%</th>\n",
       "      <td>2.120040e+07</td>\n",
       "      <td>1.610613e+09</td>\n",
       "      <td>1.610613e+09</td>\n",
       "      <td>2012.000000</td>\n",
       "      <td>1.610613e+09</td>\n",
       "      <td>103.000000</td>\n",
       "      <td>0.460000</td>\n",
       "      <td>0.765000</td>\n",
       "      <td>0.355000</td>\n",
       "      <td>23.000000</td>\n",
       "      <td>43.000000</td>\n",
       "      <td>1.610613e+09</td>\n",
       "      <td>100.000000</td>\n",
       "      <td>0.449000</td>\n",
       "      <td>0.762000</td>\n",
       "      <td>0.348000</td>\n",
       "      <td>21.000000</td>\n",
       "      <td>42.000000</td>\n",
       "      <td>1.00000</td>\n",
       "    </tr>\n",
       "    <tr>\n",
       "      <th>75%</th>\n",
       "      <td>2.170067e+07</td>\n",
       "      <td>1.610613e+09</td>\n",
       "      <td>1.610613e+09</td>\n",
       "      <td>2016.000000</td>\n",
       "      <td>1.610613e+09</td>\n",
       "      <td>112.000000</td>\n",
       "      <td>0.500000</td>\n",
       "      <td>0.828000</td>\n",
       "      <td>0.429000</td>\n",
       "      <td>26.000000</td>\n",
       "      <td>48.000000</td>\n",
       "      <td>1.610613e+09</td>\n",
       "      <td>109.000000</td>\n",
       "      <td>0.487000</td>\n",
       "      <td>0.829000</td>\n",
       "      <td>0.419000</td>\n",
       "      <td>25.000000</td>\n",
       "      <td>46.000000</td>\n",
       "      <td>1.00000</td>\n",
       "    </tr>\n",
       "    <tr>\n",
       "      <th>max</th>\n",
       "      <td>5.200021e+07</td>\n",
       "      <td>1.610613e+09</td>\n",
       "      <td>1.610613e+09</td>\n",
       "      <td>2021.000000</td>\n",
       "      <td>1.610613e+09</td>\n",
       "      <td>140.000000</td>\n",
       "      <td>0.684000</td>\n",
       "      <td>1.000000</td>\n",
       "      <td>1.000000</td>\n",
       "      <td>42.000000</td>\n",
       "      <td>72.000000</td>\n",
       "      <td>1.610613e+09</td>\n",
       "      <td>158.000000</td>\n",
       "      <td>0.687000</td>\n",
       "      <td>1.000000</td>\n",
       "      <td>1.000000</td>\n",
       "      <td>46.000000</td>\n",
       "      <td>81.000000</td>\n",
       "      <td>1.00000</td>\n",
       "    </tr>\n",
       "  </tbody>\n",
       "</table>\n",
       "</div>"
      ],
      "text/plain": [
       "            GAME_ID  HOME_TEAM_ID  VISITOR_TEAM_ID        SEASON  \\\n",
       "count  2.557900e+04  2.557900e+04     2.557900e+04  25579.000000   \n",
       "mean   2.168650e+07  1.610613e+09     1.610613e+09   2011.796865   \n",
       "std    5.479320e+06  8.635903e+00     8.652590e+00      5.389354   \n",
       "min    1.030000e+07  1.610613e+09     1.610613e+09   2003.000000   \n",
       "25%    2.060110e+07  1.610613e+09     1.610613e+09   2007.000000   \n",
       "50%    2.120040e+07  1.610613e+09     1.610613e+09   2012.000000   \n",
       "75%    2.170067e+07  1.610613e+09     1.610613e+09   2016.000000   \n",
       "max    5.200021e+07  1.610613e+09     1.610613e+09   2021.000000   \n",
       "\n",
       "       TEAM_ID_home      PTS_home   FG_PCT_home   FT_PCT_home  FG3_PCT_home  \\\n",
       "count  2.557900e+04  25579.000000  25579.000000  25579.000000  25579.000000   \n",
       "mean   1.610613e+09    103.088823      0.460628      0.759696      0.355938   \n",
       "std    8.635903e+00     12.680743      0.055757      0.100391      0.111316   \n",
       "min    1.610613e+09     71.000000      0.269000      0.143000      0.000000   \n",
       "25%    1.610613e+09     94.000000      0.422000      0.697000      0.286000   \n",
       "50%    1.610613e+09    103.000000      0.460000      0.765000      0.355000   \n",
       "75%    1.610613e+09    112.000000      0.500000      0.828000      0.429000   \n",
       "max    1.610613e+09    140.000000      0.684000      1.000000      1.000000   \n",
       "\n",
       "           AST_home      REB_home  TEAM_ID_away      PTS_away   FG_PCT_away  \\\n",
       "count  25579.000000  25579.000000  2.557900e+04  25579.000000  25579.000000   \n",
       "mean      22.730873     43.336643  1.610613e+09    100.239415      0.449449   \n",
       "std        5.100941      6.601891  8.652590e+00     13.159421      0.055471   \n",
       "min        6.000000     15.000000  1.610613e+09     54.000000      0.244000   \n",
       "25%       19.000000     39.000000  1.610613e+09     91.000000      0.412000   \n",
       "50%       23.000000     43.000000  1.610613e+09    100.000000      0.449000   \n",
       "75%       26.000000     48.000000  1.610613e+09    109.000000      0.487000   \n",
       "max       42.000000     72.000000  1.610613e+09    158.000000      0.687000   \n",
       "\n",
       "        FT_PCT_away  FG3_PCT_away      AST_away      REB_away  HOME_TEAM_WINS  \n",
       "count  25579.000000  25579.000000  25579.000000  25579.000000     25579.00000  \n",
       "mean       0.758028      0.349231     21.386137     42.068142         0.58853  \n",
       "std        0.103264      0.109892      5.117072      6.498904         0.49211  \n",
       "min        0.143000      0.000000      4.000000     20.000000         0.00000  \n",
       "25%        0.692000      0.278000     18.000000     38.000000         0.00000  \n",
       "50%        0.762000      0.348000     21.000000     42.000000         1.00000  \n",
       "75%        0.829000      0.419000     25.000000     46.000000         1.00000  \n",
       "max        1.000000      1.000000     46.000000     81.000000         1.00000  "
      ]
     },
     "execution_count": 106,
     "metadata": {},
     "output_type": "execute_result"
    }
   ],
   "source": [
    "data_numerical = data[numerical_columns]\n",
    "data_numerical.describe()"
   ]
  },
  {
   "cell_type": "code",
   "execution_count": 125,
   "id": "27e11997",
   "metadata": {},
   "outputs": [],
   "source": [
    "x = data.drop(['GAME_DATE_EST','GAME_STATUS_TEXT','GAME_ID', 'HOME_TEAM_ID', 'VISITOR_TEAM_ID', 'SEASON',\n",
    "               'TEAM_ID_home', 'FT_PCT_home', 'FG3_PCT_home', 'TEAM_ID_away',\n",
    "               'FT_PCT_away', 'FG3_PCT_away', 'AST_away', 'REB_away', 'HOME_TEAM_WINS'], axis = 1)\n",
    "y = data['SEASON']"
   ]
  },
  {
   "cell_type": "code",
   "execution_count": 126,
   "id": "40cfdf98",
   "metadata": {},
   "outputs": [
    {
     "data": {
      "text/plain": [
       "(19184, 6395)"
      ]
     },
     "execution_count": 126,
     "metadata": {},
     "output_type": "execute_result"
    }
   ],
   "source": [
    "from sklearn.model_selection import train_test_split\n",
    "X_train, X_test, y_train, y_test = train_test_split(x, y, test_size = 0.25, random_state = 42)\n",
    "\n",
    "N_train, _ = X_train.shape \n",
    "N_test,  _ = X_test.shape \n",
    "\n",
    "N_train, N_test"
   ]
  },
  {
   "cell_type": "code",
   "execution_count": 127,
   "id": "3bceb173",
   "metadata": {},
   "outputs": [],
   "source": [
    "mlp_model = MLPClassifier(hidden_layer_sizes = (100,),\n",
    "                          solver = 'lbfgs', \n",
    "                          activation = 'logistic',\n",
    "                          random_state = 42)"
   ]
  },
  {
   "cell_type": "code",
   "execution_count": 128,
   "id": "75c44a04",
   "metadata": {},
   "outputs": [
    {
     "name": "stdout",
     "output_type": "stream",
     "text": [
      "CPU times: total: 1min 8s\n",
      "Wall time: 11.4 s\n"
     ]
    },
    {
     "name": "stderr",
     "output_type": "stream",
     "text": [
      "C:\\ProgramData\\Anaconda3\\lib\\site-packages\\sklearn\\neural_network\\_multilayer_perceptron.py:549: ConvergenceWarning: lbfgs failed to converge (status=1):\n",
      "STOP: TOTAL NO. of ITERATIONS REACHED LIMIT.\n",
      "\n",
      "Increase the number of iterations (max_iter) or scale the data as shown in:\n",
      "    https://scikit-learn.org/stable/modules/preprocessing.html\n",
      "  self.n_iter_ = _check_optimize_result(\"lbfgs\", opt_res, self.max_iter)\n"
     ]
    },
    {
     "data": {
      "text/plain": [
       "MLPClassifier(activation='logistic', random_state=42, solver='lbfgs')"
      ]
     },
     "execution_count": 128,
     "metadata": {},
     "output_type": "execute_result"
    }
   ],
   "source": [
    "%%time\n",
    "mlp_model.fit(X_train, y_train)"
   ]
  },
  {
   "cell_type": "code",
   "execution_count": 131,
   "id": "251a9e65",
   "metadata": {},
   "outputs": [],
   "source": [
    "y_train_pred = mlp_model.predict(X_train)\n",
    "y_test_pred = mlp_model.predict(X_test)"
   ]
  },
  {
   "cell_type": "code",
   "execution_count": 132,
   "id": "f8be74d3",
   "metadata": {},
   "outputs": [
    {
     "name": "stdout",
     "output_type": "stream",
     "text": [
      "0.9139908256880734 0.9150899139953088\n"
     ]
    }
   ],
   "source": [
    "print(np.mean(y_train != y_train_pred), np.mean(y_test != y_test_pred))"
   ]
  },
  {
   "cell_type": "code",
   "execution_count": 133,
   "id": "027a229b",
   "metadata": {},
   "outputs": [
    {
     "name": "stdout",
     "output_type": "stream",
     "text": [
      "0.0860091743119266 0.08491008600469116\n"
     ]
    }
   ],
   "source": [
    "print(mlp_model.score(X_train, y_train), mlp_model.score(X_test, y_test))"
   ]
  },
  {
   "cell_type": "code",
   "execution_count": 134,
   "id": "6e62ed5f",
   "metadata": {},
   "outputs": [
    {
     "name": "stdout",
     "output_type": "stream",
     "text": [
      "0.9150899139953088\n"
     ]
    }
   ],
   "source": [
    "print(1 - mlp_model.score(X_test, y_test))"
   ]
  },
  {
   "cell_type": "code",
   "execution_count": 154,
   "id": "a9e24fb5",
   "metadata": {
    "scrolled": false
   },
   "outputs": [
    {
     "name": "stderr",
     "output_type": "stream",
     "text": [
      "C:\\ProgramData\\Anaconda3\\lib\\site-packages\\sklearn\\neural_network\\_multilayer_perceptron.py:549: ConvergenceWarning: lbfgs failed to converge (status=1):\n",
      "STOP: TOTAL NO. of ITERATIONS REACHED LIMIT.\n",
      "\n",
      "Increase the number of iterations (max_iter) or scale the data as shown in:\n",
      "    https://scikit-learn.org/stable/modules/preprocessing.html\n",
      "  self.n_iter_ = _check_optimize_result(\"lbfgs\", opt_res, self.max_iter)\n",
      "C:\\ProgramData\\Anaconda3\\lib\\site-packages\\sklearn\\neural_network\\_multilayer_perceptron.py:549: ConvergenceWarning: lbfgs failed to converge (status=1):\n",
      "STOP: TOTAL NO. of ITERATIONS REACHED LIMIT.\n",
      "\n",
      "Increase the number of iterations (max_iter) or scale the data as shown in:\n",
      "    https://scikit-learn.org/stable/modules/preprocessing.html\n",
      "  self.n_iter_ = _check_optimize_result(\"lbfgs\", opt_res, self.max_iter)\n",
      "C:\\ProgramData\\Anaconda3\\lib\\site-packages\\sklearn\\neural_network\\_multilayer_perceptron.py:549: ConvergenceWarning: lbfgs failed to converge (status=1):\n",
      "STOP: TOTAL NO. of ITERATIONS REACHED LIMIT.\n",
      "\n",
      "Increase the number of iterations (max_iter) or scale the data as shown in:\n",
      "    https://scikit-learn.org/stable/modules/preprocessing.html\n",
      "  self.n_iter_ = _check_optimize_result(\"lbfgs\", opt_res, self.max_iter)\n",
      "C:\\ProgramData\\Anaconda3\\lib\\site-packages\\sklearn\\neural_network\\_multilayer_perceptron.py:549: ConvergenceWarning: lbfgs failed to converge (status=1):\n",
      "STOP: TOTAL NO. of ITERATIONS REACHED LIMIT.\n",
      "\n",
      "Increase the number of iterations (max_iter) or scale the data as shown in:\n",
      "    https://scikit-learn.org/stable/modules/preprocessing.html\n",
      "  self.n_iter_ = _check_optimize_result(\"lbfgs\", opt_res, self.max_iter)\n",
      "C:\\ProgramData\\Anaconda3\\lib\\site-packages\\sklearn\\neural_network\\_multilayer_perceptron.py:549: ConvergenceWarning: lbfgs failed to converge (status=1):\n",
      "STOP: TOTAL NO. of ITERATIONS REACHED LIMIT.\n",
      "\n",
      "Increase the number of iterations (max_iter) or scale the data as shown in:\n",
      "    https://scikit-learn.org/stable/modules/preprocessing.html\n",
      "  self.n_iter_ = _check_optimize_result(\"lbfgs\", opt_res, self.max_iter)\n",
      "C:\\ProgramData\\Anaconda3\\lib\\site-packages\\sklearn\\neural_network\\_multilayer_perceptron.py:549: ConvergenceWarning: lbfgs failed to converge (status=1):\n",
      "STOP: TOTAL NO. of ITERATIONS REACHED LIMIT.\n",
      "\n",
      "Increase the number of iterations (max_iter) or scale the data as shown in:\n",
      "    https://scikit-learn.org/stable/modules/preprocessing.html\n",
      "  self.n_iter_ = _check_optimize_result(\"lbfgs\", opt_res, self.max_iter)\n"
     ]
    }
   ],
   "source": [
    "alpha_arr = np.logspace(1, 7, 23)\n",
    "test_err = []\n",
    "train_err = []\n",
    "train_acc = []\n",
    "test_acc = []\n",
    "\n",
    "for alpha in alpha_arr:\n",
    "    mlp_model = MLPClassifier(alpha = alpha, hidden_layer_sizes = (100,), \n",
    "                              solver = 'lbfgs', activation = 'logistic', max_iter=1000, random_state = 42)\n",
    "    mlp_model.fit(X_train, y_train)\n",
    "\n",
    "    y_train_pred = mlp_model.predict(X_train)\n",
    "    y_test_pred = mlp_model.predict(X_test)\n",
    "    \n",
    "    train_err.append(np.mean(y_train != y_train_pred))\n",
    "    test_err.append(np.mean(y_test != y_test_pred))\n",
    "    train_acc.append(accuracy_score(y_train, y_train_pred))\n",
    "    test_acc.append(accuracy_score(y_test, y_test_pred))"
   ]
  },
  {
   "cell_type": "code",
   "execution_count": 155,
   "id": "91d02e6f",
   "metadata": {},
   "outputs": [
    {
     "data": {
      "text/plain": [
       "<matplotlib.legend.Legend at 0x28e2302e160>"
      ]
     },
     "execution_count": 155,
     "metadata": {},
     "output_type": "execute_result"
    },
    {
     "data": {
      "image/png": "[encoded data removed]",
      "text/plain": [
       "<Figure size 432x288 with 1 Axes>"
      ]
     },
     "metadata": {
      "needs_background": "light"
     },
     "output_type": "display_data"
    }
   ],
   "source": [
    "plt.semilogx(alpha_arr, train_err, 'b-o', label = 'train')\n",
    "plt.semilogx(alpha_arr, test_err, 'r-o', label = 'test')\n",
    "plt.xlim([np.min(alpha_arr), np.max(alpha_arr)])\n",
    "plt.title('Error vs. alpha')\n",
    "plt.xlabel('alpha')\n",
    "plt.ylabel('error')\n",
    "plt.legend()"
   ]
  },
  {
   "cell_type": "code",
   "execution_count": 137,
   "id": "90abab40",
   "metadata": {},
   "outputs": [
    {
     "data": {
      "text/plain": [
       "<matplotlib.legend.Legend at 0x28e2eba5fd0>"
      ]
     },
     "execution_count": 137,
     "metadata": {},
     "output_type": "execute_result"
    },
    {
     "data": {
      "image/png": "[encoded data removed]",
      "text/plain": [
       "<Figure size 432x288 with 1 Axes>"
      ]
     },
     "metadata": {
      "needs_background": "light"
     },
     "output_type": "display_data"
    }
   ],
   "source": [
    "plt.semilogx(alpha_arr, train_acc, 'r-o', label = 'train')\n",
    "plt.semilogx(alpha_arr, test_acc, 'b-o', label = 'test')\n",
    "plt.xlim([np.min(alpha_arr), np.max(alpha_arr)])\n",
    "plt.title('Accuracy vs. alpha')\n",
    "plt.xlabel('alpha')\n",
    "plt.ylabel('Accuracy')\n",
    "plt.legend()"
   ]
  },
  {
   "cell_type": "code",
   "execution_count": 138,
   "id": "01f78ecb",
   "metadata": {},
   "outputs": [
    {
     "name": "stdout",
     "output_type": "stream",
     "text": [
      "0.8935050041701418 0.8919468334636435\n"
     ]
    }
   ],
   "source": [
    "min_train_err = np.min(train_err)\n",
    "min_test_err = np.min(test_err)\n",
    "print(min_train_err, min_test_err)"
   ]
  },
  {
   "cell_type": "code",
   "execution_count": 139,
   "id": "91fe3ba2",
   "metadata": {},
   "outputs": [
    {
     "name": "stdout",
     "output_type": "stream",
     "text": [
      "[23.29951811]\n"
     ]
    }
   ],
   "source": [
    "alpha_opt = alpha_arr[test_err == min_test_err]\n",
    "print(alpha_opt)"
   ]
  },
  {
   "cell_type": "code",
   "execution_count": 140,
   "id": "74a4ba55",
   "metadata": {},
   "outputs": [],
   "source": [
    "alpha_opt = alpha_opt[0]"
   ]
  },
  {
   "cell_type": "code",
   "execution_count": 141,
   "id": "f9d7fded",
   "metadata": {},
   "outputs": [
    {
     "name": "stdout",
     "output_type": "stream",
     "text": [
      "0.908256880733945\n",
      "0.9105551211884284\n"
     ]
    },
    {
     "name": "stderr",
     "output_type": "stream",
     "text": [
      "C:\\ProgramData\\Anaconda3\\lib\\site-packages\\sklearn\\neural_network\\_multilayer_perceptron.py:549: ConvergenceWarning: lbfgs failed to converge (status=1):\n",
      "STOP: TOTAL NO. of ITERATIONS REACHED LIMIT.\n",
      "\n",
      "Increase the number of iterations (max_iter) or scale the data as shown in:\n",
      "    https://scikit-learn.org/stable/modules/preprocessing.html\n",
      "  self.n_iter_ = _check_optimize_result(\"lbfgs\", opt_res, self.max_iter)\n"
     ]
    }
   ],
   "source": [
    "mlp_model = MLPClassifier(alpha = alpha_opt, hidden_layer_sizes = (100,),\n",
    "                          solver = 'lbfgs', activation = 'logistic', random_state = 42)\n",
    "mlp_model.fit(X_train, y_train)\n",
    "\n",
    "y_train_pred = mlp_model.predict(X_train)\n",
    "y_test_pred = mlp_model.predict(X_test)\n",
    "print(np.mean(y_train != y_train_pred))\n",
    "print(np.mean(y_test != y_test_pred))"
   ]
  },
  {
   "cell_type": "code",
   "execution_count": 142,
   "id": "186d6e30",
   "metadata": {},
   "outputs": [
    {
     "name": "stdout",
     "output_type": "stream",
     "text": [
      "[[148 109  98  89  97  82  81  92  98 107 100  96  77  66  66  58  30  30\n",
      "   38]\n",
      " [  0   0   0   0   0   0   0   0   0   0   0   0   0   0   0   0   0   0\n",
      "    0]\n",
      " [ 17  18  23  18   9  14  15  18  18   9  12   9  11   6   2   1   1   2\n",
      "    2]\n",
      " [  9   3   8   8   3  13  14   7   2   5   9   6   6   2   2   2   0   0\n",
      "    0]\n",
      " [  9   6   5  15  13  10  11  18   8  17  12   9  15  13   8  12   6   9\n",
      "    5]\n",
      " [ 33  66  86  64  59  72  71  87  49  55  86  56  57  69  48  25  25  28\n",
      "   14]\n",
      " [  1   0   0   0   0   1   4   2   2   0   6   4   4   4   7   4   2   4\n",
      "    3]\n",
      " [  0   0   0   0   0   0   0   0   0   0   0   0   0   0   0   0   0   0\n",
      "    0]\n",
      " [  0   0   0   0   0   0   0   0   0   0   0   0   0   0   0   0   0   0\n",
      "    0]\n",
      " [ 44  34  48  41  46  39  37  43  29  58  48  46  28  23  16  11  16  13\n",
      "   11]\n",
      " [  0   0   0   0   0   0   0   0   0   0   0   0   0   0   0   0   0   0\n",
      "    0]\n",
      " [  4   7  10  12  15   9  10  10  10  12  13  18  18  18  10   5   8   9\n",
      "    6]\n",
      " [ 43  24  23  17  26  31  36  21  14  22  30  37  33  41  45  34  44  23\n",
      "   24]\n",
      " [  2   6  13  20  22  23  12  20  13  14  20  12  16  21  20  32  21  15\n",
      "   14]\n",
      " [  0   0   0   0   0   0   1   0   1   0   0   0   0   2   0   1   0   0\n",
      "    0]\n",
      " [  7  15  10  17  29  13  16  21  11   9  21  25  30  40  32  70  54  59\n",
      "   47]\n",
      " [  0   0   0   0   0   0   0   0   0   1   0   0   0   0   0   0   1   0\n",
      "    0]\n",
      " [ 19  29  27  28  37  32  42  36  32  24  42  48  56  70  88  88  94 103\n",
      "   83]\n",
      " [  0   0   0   0   0   0   0   0   0   0   0   0   0   0   0   0   0   0\n",
      "    0]]\n"
     ]
    }
   ],
   "source": [
    "from sklearn.metrics import confusion_matrix\n",
    "print(confusion_matrix(y_test_pred, y_test))"
   ]
  },
  {
   "cell_type": "code",
   "execution_count": 143,
   "id": "789a224a",
   "metadata": {},
   "outputs": [
    {
     "data": {
      "image/png": "[encoded data removed]",
      "text/plain": [
       "<Figure size 432x288 with 2 Axes>"
      ]
     },
     "metadata": {
      "needs_background": "light"
     },
     "output_type": "display_data"
    }
   ],
   "source": [
    "M = confusion_matrix(y_test_pred, y_test)\n",
    "M = np.sqrt(M)\n",
    "plt.imshow(M, interpolation = 'nearest')\n",
    "plt.set_cmap('binary')\n",
    "plt.xticks(range(10))\n",
    "plt.yticks(range(10))\n",
    "plt.xlabel(\"true label\")\n",
    "plt.ylabel(\"predicted label\")\n",
    "plt.colorbar()\n",
    "pass"
   ]
  },
  {
   "cell_type": "markdown",
   "id": "0555b1e8",
   "metadata": {},
   "source": [
    "Вывод: По данным статистики невозможно определить в каком сезоне была сыгран матч, при увеличение кол-ва характеристик ктороые у нас имеются процент ошибки только возрастает."
   ]
  },
  {
   "cell_type": "code",
   "execution_count": null,
   "id": "22cb5921",
   "metadata": {},
   "outputs": [],
   "source": []
  },
  {
   "cell_type": "code",
   "execution_count": null,
   "id": "df755ec8",
   "metadata": {},
   "outputs": [],
   "source": []
  },
  {
   "cell_type": "code",
   "execution_count": null,
   "id": "52295c22",
   "metadata": {},
   "outputs": [],
   "source": []
  },
  {
   "cell_type": "code",
   "execution_count": null,
   "id": "8a496b79",
   "metadata": {},
   "outputs": [],
   "source": []
  },
  {
   "cell_type": "code",
   "execution_count": null,
   "id": "2d1dbc9b",
   "metadata": {},
   "outputs": [],
   "source": []
  },
  {
   "cell_type": "code",
   "execution_count": null,
   "id": "1b15679b",
   "metadata": {},
   "outputs": [],
   "source": []
  },
  {
   "cell_type": "code",
   "execution_count": null,
   "id": "c6f487a1",
   "metadata": {},
   "outputs": [],
   "source": [
    "\n"
   ]
  },
  {
   "cell_type": "code",
   "execution_count": null,
   "id": "3807ec14",
   "metadata": {},
   "outputs": [],
   "source": []
  }
 ],
 "metadata": {
  "kernelspec": {
   "display_name": "Python 3 (ipykernel)",
   "language": "python",
   "name": "python3"
  },
  "language_info": {
   "codemirror_mode": {
    "name": "ipython",
    "version": 3
   },
   "file_extension": ".py",
   "mimetype": "text/x-python",
   "name": "python",
   "nbconvert_exporter": "python",
   "pygments_lexer": "ipython3",
   "version": "3.9.12"
  }
 },
 "nbformat": 4,
 "nbformat_minor": 5
}
